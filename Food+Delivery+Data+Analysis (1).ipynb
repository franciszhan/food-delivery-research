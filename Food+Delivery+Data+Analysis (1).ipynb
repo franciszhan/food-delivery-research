{
 "cells": [
  {
   "cell_type": "markdown",
   "metadata": {},
   "source": [
    "# Visualization of Food Delivery Transactions\n",
    "### Francis Zhan, McKayla Muller, Joangie Chloe"
   ]
  },
  {
   "cell_type": "markdown",
   "metadata": {},
   "source": [
    "### Introduction\n",
    "One industry leveraging the immense potential of big data is the food delivery industry. In the past, most of food delivery was done on a per-restaurant basis, with each store recruiting their own delivery personnel. Additionally, the delivery routes were often inefficient, decided by each delivery person's experience rather than data. Today, huge amounts of delivery startups like GrubHub and UberEats are popping up, leveraging the power of data in optimizing food delivery across multiple restaurants. This project will analyze data points of deliveries as well as restaurant information to generate insight, like popularity of food delivery based on geography, demographic, or time of day."
   ]
  },
  {
   "cell_type": "markdown",
   "metadata": {},
   "source": [
    "### Data\n",
    "The data we are going to analyze first comes from a Chinese Takeout Restaurant in Charleston, SC. This data originates from  https://www.kaggle.com/dustincm/chinese-delivery-drive. Takeout transactions are a huge part of American culture today, and we believe that, through analyzing these transactions, we can find meaningful insight that lends itself to the delivery industry as a whole.\n",
    "\n",
    "A secondary supportive data set we used was a GIS data set, so we can use it to map street addresses to locations in Charleston, SC. This was mainly used to explore density and location of orders visually, as seen later."
   ]
  },
  {
   "cell_type": "code",
   "execution_count": 21,
   "metadata": {
    "collapsed": true
   },
   "outputs": [],
   "source": [
    "#all imports\n",
    "import pandas as pd\n",
    "import numpy as np\n",
    "import matplotlib.pyplot as plt\n",
    "%matplotlib inline\n",
    "import scipy \n",
    "from scipy import stats\n",
    "import geopy\n",
    "from geopy.geocoders import Nominatim\n",
    "\n",
    "food = pd.read_csv(\"Chopsticks_Data_Clean.csv\", encoding = \"ISO-8859-1\")"
   ]
  },
  {
   "cell_type": "code",
   "execution_count": 3,
   "metadata": {},
   "outputs": [
    {
     "data": {
      "text/html": [
       "<div>\n",
       "<style>\n",
       "    .dataframe thead tr:only-child th {\n",
       "        text-align: right;\n",
       "    }\n",
       "\n",
       "    .dataframe thead th {\n",
       "        text-align: left;\n",
       "    }\n",
       "\n",
       "    .dataframe tbody tr th {\n",
       "        vertical-align: top;\n",
       "    }\n",
       "</style>\n",
       "<table border=\"1\" class=\"dataframe\">\n",
       "  <thead>\n",
       "    <tr style=\"text-align: right;\">\n",
       "      <th></th>\n",
       "      <th>Unnamed: 0</th>\n",
       "      <th>Street_Address</th>\n",
       "      <th>Date</th>\n",
       "      <th>Tip</th>\n",
       "      <th>Phone_Number</th>\n",
       "      <th>Race</th>\n",
       "      <th>Gender</th>\n",
       "      <th>Type</th>\n",
       "      <th>Price</th>\n",
       "      <th>Payment_Type</th>\n",
       "      <th>Time_In</th>\n",
       "      <th>Time_Out</th>\n",
       "      <th>Age</th>\n",
       "      <th>Time_Elapsed</th>\n",
       "      <th>Miles</th>\n",
       "    </tr>\n",
       "  </thead>\n",
       "  <tbody>\n",
       "    <tr>\n",
       "      <th>0</th>\n",
       "      <td>0</td>\n",
       "      <td>23 Kracke</td>\n",
       "      <td>7/5/2016</td>\n",
       "      <td>3.00</td>\n",
       "      <td>8.438056e+09</td>\n",
       "      <td>W</td>\n",
       "      <td>F</td>\n",
       "      <td>R</td>\n",
       "      <td>19.83</td>\n",
       "      <td>R</td>\n",
       "      <td>11:58</td>\n",
       "      <td>NaN</td>\n",
       "      <td>Y</td>\n",
       "      <td>NaN</td>\n",
       "      <td>2.5</td>\n",
       "    </tr>\n",
       "    <tr>\n",
       "      <th>1</th>\n",
       "      <td>1</td>\n",
       "      <td>145 Bee</td>\n",
       "      <td>6/29/2016</td>\n",
       "      <td>4.78</td>\n",
       "      <td>9.149805e+09</td>\n",
       "      <td>W</td>\n",
       "      <td>F</td>\n",
       "      <td>NaN</td>\n",
       "      <td>NaN</td>\n",
       "      <td>NaN</td>\n",
       "      <td>15:06</td>\n",
       "      <td>NaN</td>\n",
       "      <td>Y</td>\n",
       "      <td>NaN</td>\n",
       "      <td>1.6</td>\n",
       "    </tr>\n",
       "    <tr>\n",
       "      <th>2</th>\n",
       "      <td>2</td>\n",
       "      <td>Ashley River</td>\n",
       "      <td>7/7/2016</td>\n",
       "      <td>NaN</td>\n",
       "      <td>8.435063e+09</td>\n",
       "      <td>NaN</td>\n",
       "      <td>NaN</td>\n",
       "      <td>NaN</td>\n",
       "      <td>12.93</td>\n",
       "      <td>C</td>\n",
       "      <td>21:34</td>\n",
       "      <td>NaN</td>\n",
       "      <td>NaN</td>\n",
       "      <td>NaN</td>\n",
       "      <td>2.0</td>\n",
       "    </tr>\n",
       "    <tr>\n",
       "      <th>3</th>\n",
       "      <td>3</td>\n",
       "      <td>6 Grove Street</td>\n",
       "      <td>6/1/2016</td>\n",
       "      <td>3.67</td>\n",
       "      <td>NaN</td>\n",
       "      <td>B</td>\n",
       "      <td>M</td>\n",
       "      <td>R</td>\n",
       "      <td>NaN</td>\n",
       "      <td>NaN</td>\n",
       "      <td>16:30</td>\n",
       "      <td>NaN</td>\n",
       "      <td>NaN</td>\n",
       "      <td>NaN</td>\n",
       "      <td>1.7</td>\n",
       "    </tr>\n",
       "    <tr>\n",
       "      <th>4</th>\n",
       "      <td>4</td>\n",
       "      <td>6 Grove Street</td>\n",
       "      <td>6/28/2016</td>\n",
       "      <td>3.61</td>\n",
       "      <td>8.437938e+09</td>\n",
       "      <td>B</td>\n",
       "      <td>F</td>\n",
       "      <td>R</td>\n",
       "      <td>NaN</td>\n",
       "      <td>R</td>\n",
       "      <td>14:20</td>\n",
       "      <td>NaN</td>\n",
       "      <td>M</td>\n",
       "      <td>NaN</td>\n",
       "      <td>1.7</td>\n",
       "    </tr>\n",
       "  </tbody>\n",
       "</table>\n",
       "</div>"
      ],
      "text/plain": [
       "   Unnamed: 0  Street_Address       Date   Tip  Phone_Number Race Gender Type  \\\n",
       "0           0       23 Kracke   7/5/2016  3.00  8.438056e+09    W      F    R   \n",
       "1           1         145 Bee  6/29/2016  4.78  9.149805e+09    W      F  NaN   \n",
       "2           2    Ashley River   7/7/2016   NaN  8.435063e+09  NaN    NaN  NaN   \n",
       "3           3  6 Grove Street   6/1/2016  3.67           NaN    B      M    R   \n",
       "4           4  6 Grove Street  6/28/2016  3.61  8.437938e+09    B      F    R   \n",
       "\n",
       "   Price Payment_Type Time_In Time_Out  Age  Time_Elapsed  Miles  \n",
       "0  19.83            R   11:58      NaN    Y           NaN    2.5  \n",
       "1    NaN          NaN   15:06      NaN    Y           NaN    1.6  \n",
       "2  12.93            C   21:34      NaN  NaN           NaN    2.0  \n",
       "3    NaN          NaN   16:30      NaN  NaN           NaN    1.7  \n",
       "4    NaN            R   14:20      NaN    M           NaN    1.7  "
      ]
     },
     "execution_count": 3,
     "metadata": {},
     "output_type": "execute_result"
    }
   ],
   "source": [
    "food.head()"
   ]
  },
  {
   "cell_type": "markdown",
   "metadata": {},
   "source": [
    "\n",
    "After cleaning up the raw data by removing all rows where price is N/A, the data consists of 772 data points of transactions that happened between the dates of 5/19/2016 - 7/8/2016. The data has 14 columns, consisting of important information like price, tip amount, distance travelled, time delivered, and demographic of customer."
   ]
  },
  {
   "cell_type": "code",
   "execution_count": 4,
   "metadata": {},
   "outputs": [
    {
     "data": {
      "text/html": [
       "<div>\n",
       "<style>\n",
       "    .dataframe thead tr:only-child th {\n",
       "        text-align: right;\n",
       "    }\n",
       "\n",
       "    .dataframe thead th {\n",
       "        text-align: left;\n",
       "    }\n",
       "\n",
       "    .dataframe tbody tr th {\n",
       "        vertical-align: top;\n",
       "    }\n",
       "</style>\n",
       "<table border=\"1\" class=\"dataframe\">\n",
       "  <thead>\n",
       "    <tr style=\"text-align: right;\">\n",
       "      <th></th>\n",
       "      <th>Unnamed: 0</th>\n",
       "      <th>Street_Address</th>\n",
       "      <th>Date</th>\n",
       "      <th>Tip</th>\n",
       "      <th>Phone_Number</th>\n",
       "      <th>Race</th>\n",
       "      <th>Gender</th>\n",
       "      <th>Type</th>\n",
       "      <th>Price</th>\n",
       "      <th>Payment_Type</th>\n",
       "      <th>Time_In</th>\n",
       "      <th>Time_Out</th>\n",
       "      <th>Age</th>\n",
       "      <th>Time_Elapsed</th>\n",
       "      <th>Miles</th>\n",
       "    </tr>\n",
       "  </thead>\n",
       "  <tbody>\n",
       "    <tr>\n",
       "      <th>334</th>\n",
       "      <td>334</td>\n",
       "      <td>67 President</td>\n",
       "      <td>5/19/2016</td>\n",
       "      <td>6.41</td>\n",
       "      <td>NaN</td>\n",
       "      <td>A</td>\n",
       "      <td>F</td>\n",
       "      <td>W</td>\n",
       "      <td>35.59</td>\n",
       "      <td>C</td>\n",
       "      <td>11:26</td>\n",
       "      <td>NaN</td>\n",
       "      <td>NaN</td>\n",
       "      <td>NaN</td>\n",
       "      <td>1.165746</td>\n",
       "    </tr>\n",
       "    <tr>\n",
       "      <th>208</th>\n",
       "      <td>208</td>\n",
       "      <td>697.5 King</td>\n",
       "      <td>5/19/2016</td>\n",
       "      <td>3.38</td>\n",
       "      <td>NaN</td>\n",
       "      <td>B</td>\n",
       "      <td>M</td>\n",
       "      <td>R</td>\n",
       "      <td>28.62</td>\n",
       "      <td>C</td>\n",
       "      <td>12:27</td>\n",
       "      <td>13:20</td>\n",
       "      <td>NaN</td>\n",
       "      <td>53.0</td>\n",
       "      <td>1.454697</td>\n",
       "    </tr>\n",
       "    <tr>\n",
       "      <th>629</th>\n",
       "      <td>629</td>\n",
       "      <td>37 Charlotte</td>\n",
       "      <td>5/19/2016</td>\n",
       "      <td>4.00</td>\n",
       "      <td>NaN</td>\n",
       "      <td>W</td>\n",
       "      <td>M</td>\n",
       "      <td>R</td>\n",
       "      <td>16.58</td>\n",
       "      <td>R</td>\n",
       "      <td>20:46</td>\n",
       "      <td>21:52</td>\n",
       "      <td>NaN</td>\n",
       "      <td>66.0</td>\n",
       "      <td>0.674219</td>\n",
       "    </tr>\n",
       "    <tr>\n",
       "      <th>459</th>\n",
       "      <td>459</td>\n",
       "      <td>16 Brewster Ct.</td>\n",
       "      <td>5/19/2016</td>\n",
       "      <td>5.00</td>\n",
       "      <td>NaN</td>\n",
       "      <td>W</td>\n",
       "      <td>M</td>\n",
       "      <td>R</td>\n",
       "      <td>17.45</td>\n",
       "      <td>C</td>\n",
       "      <td>20:00</td>\n",
       "      <td>20:52</td>\n",
       "      <td>NaN</td>\n",
       "      <td>52.0</td>\n",
       "      <td>0.917186</td>\n",
       "    </tr>\n",
       "    <tr>\n",
       "      <th>465</th>\n",
       "      <td>465</td>\n",
       "      <td>13 Jacobs</td>\n",
       "      <td>5/19/2016</td>\n",
       "      <td>6.50</td>\n",
       "      <td>NaN</td>\n",
       "      <td>W</td>\n",
       "      <td>F</td>\n",
       "      <td>R</td>\n",
       "      <td>13.98</td>\n",
       "      <td>R</td>\n",
       "      <td>18:06</td>\n",
       "      <td>NaN</td>\n",
       "      <td>NaN</td>\n",
       "      <td>NaN</td>\n",
       "      <td>0.888602</td>\n",
       "    </tr>\n",
       "  </tbody>\n",
       "</table>\n",
       "</div>"
      ],
      "text/plain": [
       "     Unnamed: 0   Street_Address       Date   Tip  Phone_Number Race Gender  \\\n",
       "334         334     67 President  5/19/2016  6.41           NaN    A      F   \n",
       "208         208       697.5 King  5/19/2016  3.38           NaN    B      M   \n",
       "629         629     37 Charlotte  5/19/2016  4.00           NaN    W      M   \n",
       "459         459  16 Brewster Ct.  5/19/2016  5.00           NaN    W      M   \n",
       "465         465        13 Jacobs  5/19/2016  6.50           NaN    W      F   \n",
       "\n",
       "    Type  Price Payment_Type Time_In Time_Out  Age  Time_Elapsed     Miles  \n",
       "334    W  35.59            C   11:26      NaN  NaN           NaN  1.165746  \n",
       "208    R  28.62            C   12:27    13:20  NaN          53.0  1.454697  \n",
       "629    R  16.58            R   20:46    21:52  NaN          66.0  0.674219  \n",
       "459    R  17.45            C   20:00    20:52  NaN          52.0  0.917186  \n",
       "465    R  13.98            R   18:06      NaN  NaN           NaN  0.888602  "
      ]
     },
     "execution_count": 4,
     "metadata": {},
     "output_type": "execute_result"
    }
   ],
   "source": [
    "food.sort_values('Date').head()"
   ]
  },
  {
   "cell_type": "markdown",
   "metadata": {},
   "source": [
    "### Tips\n",
    "Having sorted the data by date now, the first thing we would like to explore in this data is the tip. Tipping is an important part of food delivery, as it often determines the incentive for delivery personnel in open platforms like GrubHub. If a platform historically gets larger tips, more delivery personnel will shift towards it. Additionally, tipping averages can also tell us a lot about order size, as tips are usually calculated as a percent of the order amount.\n",
    "\n",
    "Looking at the data, we can look for correlations between race, gender, and payment type with tip amount to see what type of demographic tends to tip the most. By figuring this out, we will be able to target that demographic in future marketing schemes to boost tipping averages.\n",
    "\n",
    "First, let us take a look at tipping in general. We plotted a histogram that shows how much people tip."
   ]
  },
  {
   "cell_type": "code",
   "execution_count": 8,
   "metadata": {},
   "outputs": [
    {
     "name": "stdout",
     "output_type": "stream",
     "text": [
      "3.0\n"
     ]
    },
    {
     "data": {
      "image/png": "[encoded data removed]",
      "text/plain": [
       "<matplotlib.figure.Figure at 0x1d12af76978>"
      ]
     },
     "metadata": {},
     "output_type": "display_data"
    }
   ],
   "source": [
    "food['Tip'].plot.hist(bins = 25, range = (0, 14))\n",
    "plt.xlabel('Tip amount')\n",
    "plt.ylabel('Number of People')\n",
    "plt.gca().set_title('What do people most frequently tip?')\n",
    "plt.show\n",
    "\n",
    "print(food['Tip'].median())"
   ]
  },
  {
   "cell_type": "markdown",
   "metadata": {},
   "source": [
    "The most frequent tipping amounts lay in the $3 range. Additionally, we see a right skewed graph, meaning the mean is going to be higher than the median. This will be useful in interpreting future analyses that use mean as a measurement. "
   ]
  },
  {
   "cell_type": "code",
   "execution_count": 207,
   "metadata": {
    "collapsed": true
   },
   "outputs": [],
   "source": [
    "tip = food.Tip\n",
    "clean_tip = tip.dropna()\n",
    "race = food.Race\n",
    "payment_type = food.Payment_Type \n",
    "gender = food.Gender \n",
    "age = food.Age\n",
    "# print(clean_tip)\n",
    "\n",
    "rows_clean = list(clean_tip.keys())\n",
    "total_clean = food.iloc[rows_clean]\n",
    "\n",
    "racemean = (total_clean_2.groupby(['Race'])['Tip'].mean())\n",
    "gendermean = (total_clean_2.groupby(['Gender'])['Tip'].mean())\n",
    "paymean = (total_clean_2.groupby(['Payment_Type'])['Tip'].mean())\n",
    "\n",
    "#aggregate table\n",
    "total_clean_2 = total_clean[['Tip', 'Race',  'Gender', 'Payment_Type']]\n",
    "#print(total_clean_2)\n",
    "deviation= total_clean_2.groupby(['Race', 'Gender', 'Payment_Type'])['Tip'].std()\n",
    "mean = (total_clean_2.groupby(['Race', 'Gender', 'Payment_Type'])['Tip'].mean())"
   ]
  },
  {
   "cell_type": "code",
   "execution_count": 208,
   "metadata": {},
   "outputs": [
    {
     "name": "stdout",
     "output_type": "stream",
     "text": [
      "Race\n",
      "A    4.269545\n",
      "B    2.088857\n",
      "L    4.052759\n",
      "W    3.681265\n",
      "Name: Tip, dtype: float64\n"
     ]
    }
   ],
   "source": [
    "print(racemean)"
   ]
  },
  {
   "cell_type": "markdown",
   "metadata": {},
   "source": [
    "It seems that, over all the races, Asians tend to tip the most. Whether it is because of an innate generosity or a simple love for Chinese takeout places, we may not know. However, with this insight, we know it is a safe bet for Chinese restaurants on food delivery platforms to cater towards more Asian consumers in the future. This could be contrary to original beliefs, since Americans are a larger audience group to target."
   ]
  },
  {
   "cell_type": "code",
   "execution_count": 209,
   "metadata": {},
   "outputs": [
    {
     "name": "stdout",
     "output_type": "stream",
     "text": [
      "Gender\n",
      "F    3.115959\n",
      "M    3.468399\n",
      "Name: Tip, dtype: float64\n"
     ]
    }
   ],
   "source": [
    "print(gendermean)"
   ]
  },
  {
   "cell_type": "markdown",
   "metadata": {},
   "source": [
    "The tipping average between genders is more or less equal, with males tipping slightly more than females. No particular insight can be drawn from this data, as the difference in tips are too similar."
   ]
  },
  {
   "cell_type": "code",
   "execution_count": 210,
   "metadata": {},
   "outputs": [
    {
     "name": "stdout",
     "output_type": "stream",
     "text": [
      "Payment_Type\n",
      "C    3.635891\n",
      "R    2.926729\n",
      "Name: Tip, dtype: float64\n"
     ]
    }
   ],
   "source": [
    "print(paymean)"
   ]
  },
  {
   "cell_type": "markdown",
   "metadata": {},
   "source": [
    "Looking at payment types, one can see a clear increase in tips through cash than through credit. This was actually surprising for us as a group, as we expected cash tips to be mis-reported by delivery personnel. This insight means that, though credit or in-app payments are a lot more convenient for orders in general, the tip can be improved if collected through cash. A potential implementation of this would be for delivery platforms to encourage cash tips when sending in orders."
   ]
  },
  {
   "cell_type": "code",
   "execution_count": 211,
   "metadata": {},
   "outputs": [
    {
     "name": "stdout",
     "output_type": "stream",
     "text": [
      "Race  Gender  Payment_Type\n",
      "A     F       C               4.005000\n",
      "              R               1.745000\n",
      "      M       C               5.715000\n",
      "              R               2.373333\n",
      "B     F       C               2.469792\n",
      "              R               1.400000\n",
      "      M       C               2.055000\n",
      "              R               2.128000\n",
      "L     F       C               4.980000\n",
      "              R               0.000000\n",
      "      M       C               3.382727\n",
      "              R               5.805000\n",
      "W     F       C               4.051707\n",
      "              R               3.368000\n",
      "      M       C               4.591324\n",
      "              R               3.375667\n",
      "Name: Tip, dtype: float64\n",
      "Race  Gender  Payment_Type\n",
      "A     F       C               2.860670\n",
      "              R               1.256171\n",
      "      M       C               1.989816\n",
      "              R               0.546016\n",
      "B     F       C               4.451253\n",
      "              R               1.586057\n",
      "      M       C               2.309295\n",
      "              R               2.106500\n",
      "L     F       C               0.833757\n",
      "              R                    NaN\n",
      "      M       C               2.064064\n",
      "              R               6.838964\n",
      "W     F       C               2.155527\n",
      "              R               1.530894\n",
      "      M       C               2.502423\n",
      "              R               1.479258\n",
      "Name: Tip, dtype: float64\n"
     ]
    }
   ],
   "source": [
    "print(mean)\n",
    "print(deviation)"
   ]
  },
  {
   "cell_type": "markdown",
   "metadata": {},
   "source": [
    "Finally, we can look at all the categories combined as a whole. In this aggregate table, we can gain insight as to which combinations of the three categories may generate the largest tips. From our previous insights, it should seem like Asian males who pay by cash tip the most. Looking at the table, we can see that they do have the second highest tipping average. However, surprisingly, Latino males who pay by credit win over the first place. Interesting to note, however, is that Latino Males who pay by credit also have the highest standard deviation, which could point to the fact that not many Latino males buy from this restaurant, and that their average is simply a result of outliers. This hypothesis is also backed by our previous finding of a right-skewed graph. Regardless, we now know two specific demographics that food delivery services could target to raise their tipping averages! Look out for the next ad campaigns from GrubHub and Seamless, Asians and Latino males."
   ]
  },
  {
   "cell_type": "markdown",
   "metadata": {},
   "source": [
    "### Wait Time\n",
    "Another key metric of determining the success of a food delivery business is the speed at which they can get food delivered. Our data only has one metric that can be reasonably related to delivery time: distance travelled. Intuitively, the longer the distance from restaurant to destination, the longer the delivery time. However, we found something surprising in our research."
   ]
  },
  {
   "cell_type": "code",
   "execution_count": 212,
   "metadata": {},
   "outputs": [
    {
     "name": "stdout",
     "output_type": "stream",
     "text": [
      "R-Squared:  0.0344408080308\n"
     ]
    },
    {
     "data": {
      "text/plain": [
       "<function matplotlib.pyplot.show>"
      ]
     },
     "execution_count": 212,
     "metadata": {},
     "output_type": "execute_result"
    },
    {
     "data": {
      "image/png": "[encoded data removed]",
      "text/plain": [
       "<matplotlib.figure.Figure at 0x1d23095b668>"
      ]
     },
     "metadata": {},
     "output_type": "display_data"
    }
   ],
   "source": [
    "time_elapsed = food.Time_Elapsed\n",
    "clean_time  = time_elapsed.dropna()\n",
    "mean_time = time_elapsed.dropna().mean()\n",
    "max_time = time_elapsed.dropna().max()\n",
    "rows_time = list(clean_time.keys())\n",
    "dict_time = (dict(clean_time))\n",
    "values_time = list(dict_time.values())\n",
    "total_time = food.iloc[rows_time]\n",
    "total_miles = total_time[['Miles']]\n",
    "dict_miles = (dict(total_miles))\n",
    "values_miles = list(dict_miles.values())\n",
    "total_time_2 = total_time[['Time_Elapsed', 'Miles']]\n",
    "sorted_time = total_time_2.sort_values(['Time_Elapsed'])\n",
    "# print(sorted_time)\n",
    "plt.scatter(values_time, values_miles)\n",
    "plt.xlabel('Time Elapsed')\n",
    "plt.ylabel('Miles')\n",
    "plt.gca().set_title('Delivery Time based on Distance')\n",
    "slope, intercept, r_value, p_value, std_err = stats.linregress(values_time, values_miles)\n",
    "print(\"R-Squared: \",  r_value**2)\n",
    "#shows the r squared value of the scatterplot\n",
    "plt.show\n",
    "#plots values of time against miles "
   ]
  },
  {
   "cell_type": "markdown",
   "metadata": {},
   "source": [
    "The R-Squared value calculated means that the correlation between delivery time and miles is near 0!\n",
    "\n",
    "Of course, one has to keep in mind that this data is gathered from Charleston, SC, and that it may not be representative of more urban cities such as NYC, where bad traffic could make distance a more significant factor. \n",
    "\n",
    "Just for fun, we also imported a GIS data set of Charleston to cross reference to our addresses to roughly plot where each delivery was delivered to to get a sense of density. And from this, we found a possible explanation to our conundrum regarding distance and time"
   ]
  },
  {
   "cell_type": "code",
   "execution_count": 45,
   "metadata": {},
   "outputs": [
    {
     "name": "stderr",
     "output_type": "stream",
     "text": [
      "C:\\Users\\franc\\Anaconda3\\lib\\site-packages\\ipykernel_launcher.py:10: SettingWithCopyWarning: \n",
      "A value is trying to be set on a copy of a slice from a DataFrame\n",
      "\n",
      "See the caveats in the documentation: http://pandas.pydata.org/pandas-docs/stable/indexing.html#indexing-view-versus-copy\n",
      "  # Remove the CWD from sys.path while we load stuff.\n",
      "C:\\Users\\franc\\Anaconda3\\lib\\site-packages\\ipykernel_launcher.py:11: SettingWithCopyWarning: \n",
      "A value is trying to be set on a copy of a slice from a DataFrame\n",
      "\n",
      "See the caveats in the documentation: http://pandas.pydata.org/pandas-docs/stable/indexing.html#indexing-view-versus-copy\n",
      "  # This is added back by InteractiveShellApp.init_path()\n"
     ]
    }
   ],
   "source": [
    "geolocator = Nominatim(user_agent=\"food-delivery\")\n",
    "addr = food.Street_Address.unique()\n",
    "food[\"latitude\"] = 0.0\n",
    "food[\"longitude\"] = 0.0\n",
    "length = len(addr)\n",
    "for i in range (100):\n",
    "    if(addr[i] is not None):\n",
    "        location = geolocator.geocode(addr[i])\n",
    "        if(location is not None):\n",
    "                food[\"latitude\"][i] = location.latitude\n",
    "                food[\"longitude\"][i] = location.longitude\n"
   ]
  },
  {
   "cell_type": "code",
   "execution_count": 44,
   "metadata": {},
   "outputs": [
    {
     "data": {
      "text/plain": [
       "<matplotlib.collections.PathCollection at 0x249d08c18d0>"
      ]
     },
     "execution_count": 44,
     "metadata": {},
     "output_type": "execute_result"
    },
    {
     "data": {
      "image/png": "[encoded data removed]",
      "text/plain": [
       "<matplotlib.figure.Figure at 0x249d082beb8>"
      ]
     },
     "metadata": {},
     "output_type": "display_data"
    }
   ],
   "source": [
    "plt.scatter(food['longitude'], food['latitude'])"
   ]
  },
  {
   "cell_type": "markdown",
   "metadata": {},
   "source": [
    "As it turns out, most of the delivery addresses are within a mile or two of the actual restaurant, which is located at (-80, 33). This may contribute to the potential lack of correlation between time and distance. After all, logically, distance should affect time greatly. Our theory is that many of the short deliveries were delayed due to some outer factor, causing the correlation between distance and time to be diluted.\n",
    "\n",
    "This means that there is another external factor that affects delivery time way more than distance, to the point where distance's effects become negligible. With all the optimization constantly going into delivery path, delivery platforms may be looking in the wrong place. It could be more effective if platforms instead focused on enforcing restaurants to prep their meals on time, or if the hand-off between restaurant and delivery personnel were optimized."
   ]
  },
  {
   "cell_type": "markdown",
   "metadata": {},
   "source": [
    "### Return Customers\n",
    "Finally, a third key factor that delivery services can keep in mind are returning customers. Let's first see what type of people tend to come back for seconds and thirds."
   ]
  },
  {
   "cell_type": "code",
   "execution_count": 6,
   "metadata": {},
   "outputs": [
    {
     "data": {
      "text/plain": [
       "45 Courtenay    18\n",
       "171 Ashley      15\n",
       "930 Morrison    12\n",
       "101 Meeting     10\n",
       "25 Calhoun       8\n",
       "Name: Street_Address, dtype: int64"
      ]
     },
     "execution_count": 6,
     "metadata": {},
     "output_type": "execute_result"
    },
    {
     "data": {
      "image/png": "[encoded data removed]",
      "text/plain": [
       "<matplotlib.figure.Figure at 0x1d12ae767b8>"
      ]
     },
     "metadata": {},
     "output_type": "display_data"
    }
   ],
   "source": [
    "dupcount = food[['Street_Address','Race']].groupby('Street_Address').count().sort_values('Race',ascending=False)\n",
    "series = food['Street_Address'].value_counts()\n",
    "\n",
    "\n",
    "\n",
    "series.plot.hist(bins = 20, range = (1, 20))\n",
    "plt.xlabel('Times of Returning')\n",
    "plt.ylabel('Number of People')\n",
    "plt.gca().set_title('How many times do people usually visit this restaurant?')\n",
    "plt.show\n",
    "\n",
    "series.head()"
   ]
  },
  {
   "cell_type": "code",
   "execution_count": 15,
   "metadata": {},
   "outputs": [
    {
     "data": {
      "text/plain": [
       "<matplotlib.axes._subplots.AxesSubplot at 0x1d12b661400>"
      ]
     },
     "execution_count": 15,
     "metadata": {},
     "output_type": "execute_result"
    },
    {
     "data": {
      "image/png": "[encoded data removed]",
      "text/plain": [
       "<matplotlib.figure.Figure at 0x1d12b5dcef0>"
      ]
     },
     "metadata": {},
     "output_type": "display_data"
    },
    {
     "data": {
      "image/png": "[encoded data removed]",
      "text/plain": [
       "<matplotlib.figure.Figure at 0x1d12b617eb8>"
      ]
     },
     "metadata": {},
     "output_type": "display_data"
    },
    {
     "data": {
      "image/png": "[encoded data removed]",
      "text/plain": [
       "<matplotlib.figure.Figure at 0x1d12b508470>"
      ]
     },
     "metadata": {},
     "output_type": "display_data"
    }
   ],
   "source": [
    "sameseries = food.loc[food['Street_Address'].isin(['45 Courtenay','171 Ashley','930 Morrison','101 Meeting','25 Calhoun'])]\n",
    "demotest1 = sameseries.groupby(['Street_Address','Payment_Type'])['Street_Address'].count().unstack('Payment_Type').fillna(0)\n",
    "demotest2 = sameseries.groupby(['Street_Address','Gender'])['Street_Address'].count().unstack('Gender').fillna(0)\n",
    "demotest3 = sameseries.groupby(['Street_Address','Race'])['Street_Address'].count().unstack('Race').fillna(0)\n",
    "demotest1.plot(kind='bar', stacked = True)\n",
    "demotest2.plot(kind='bar', stacked = True)\n",
    "demotest3.plot(kind='bar', stacked = True)"
   ]
  },
  {
   "cell_type": "markdown",
   "metadata": {
    "collapsed": true
   },
   "source": [
    "### Concluding Thoughts\n",
    "So after all our research, we found a surprising amount of insight.\n",
    "\n",
    "First, the demographic of customers affects tipping quite greatly. On average, people who identified themselves as Asian males tended to tip more. Whether it was because they tended to order more or if they were just generous, we aren't sure. However, we do know for certain that targetting the Asian male population will yield good results in terms of tipping, and potentially an increase in Average Order Size (AOS) too. By incorporating this insight, food delivery services will be able to attract a larger amount of food deliverers as well as increase revenue stream.\n",
    "\n",
    "Second of all, demographics tend to affect return rates too. Having looked at the data and plotted stacked bar graphs, we have concluded that women who pay by credit tend to come back the most as loyal customers. To increase retention rates/reduce churn, food delivery platforms can consider making a marketing push towards credit users and appeal to a more female population.\n",
    "\n",
    "Finally, we found an interesting lack of correlation between distance and time in our data. Though this can be chalked off to many reasons such as a biased data set (especially after looking at the geographic density of the addresses in our GIS data set), it is still a decent indication for food delivery startups to start investigating other means to reduce delivery time aside from optimizing delivery paths."
   ]
  },
  {
   "cell_type": "code",
   "execution_count": null,
   "metadata": {
    "collapsed": true
   },
   "outputs": [],
   "source": []
  }
 ],
 "metadata": {
  "kernelspec": {
   "display_name": "Python 3",
   "language": "python",
   "name": "python3"
  },
  "language_info": {
   "codemirror_mode": {
    "name": "ipython",
    "version": 3
   },
   "file_extension": ".py",
   "mimetype": "text/x-python",
   "name": "python",
   "nbconvert_exporter": "python",
   "pygments_lexer": "ipython3",
   "version": "3.6.2"
  }
 },
 "nbformat": 4,
 "nbformat_minor": 2
}
